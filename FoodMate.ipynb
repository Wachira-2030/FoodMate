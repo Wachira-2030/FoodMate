{
  "cells": [
    {
      "cell_type": "markdown",
      "metadata": {
        "id": "Dlx3KOIEMoqf"
      },
      "source": [
        "# FOODMATE RECOMMENDATION SYSTEM\n"
      ]
    },
    {
      "cell_type": "markdown",
      "metadata": {
        "id": "gdD69p9GSCkD"
      },
      "source": [
        "## A. BUSINESS UNDERSTANDING."
      ]
    },
    {
      "cell_type": "markdown",
      "metadata": {
        "id": "DyQhFTCGQbj5"
      },
      "source": [
        "## 1. Defining the question."
      ]
    },
    {
      "cell_type": "markdown",
      "metadata": {
        "id": "PtplZQZXRDSZ"
      },
      "source": [
        "### a.) Specifying the data analytic question"
      ]
    },
    {
      "cell_type": "markdown",
      "metadata": {
        "id": "TTdlfUIpcm7x"
      },
      "source": [
        "> **Problem Statement**:The problem addressed by this dataset is the lack of easily accessible and comprehensive information about the nutritional values of common foods and products. This can make it difficult for people to make informed decisions about their diet and can contribute to health problems such as obesity and malnutrition.\n"
      ]
    },
    {
      "cell_type": "markdown",
      "metadata": {
        "id": "c5jtfCRQRUi4"
      },
      "source": [
        "### b.) Metric for success."
      ]
    },
    {
      "attachments": {},
      "cell_type": "markdown",
      "metadata": {
        "id": "_PC8Y80hcoQM"
      },
      "source": [
        "Our recommender system will be considered successful if it meets the following criteria:\n",
        "\n",
        "1. Have a recall score of 80% and above.\n",
        "2. Have a mean absolute precission at least 90%.\n",
        "3. Have a coverage of around 90%."
      ]
    },
    {
      "cell_type": "markdown",
      "metadata": {
        "id": "gUK25oKWRZyJ"
      },
      "source": [
        "### c.) Understanding the context"
      ]
    },
    {
      "cell_type": "markdown",
      "metadata": {
        "id": "w_b3seLoRfcO"
      },
      "source": [
        "The food and health industry is a highly competitive and crowded space. With so many diet plans, meal delivery services, and health apps available, it can be overwhelming for individuals to navigate and make informed decisions about their dietary choices. This creates a major business problem for stakeholders who want to provide effective solutions that meet the needs of their customers.\n",
        "One major issue is the lack of personalized nutrition recommendations available in the market. Many existing meal delivery services and health apps provide generic diet plans that are not tailored to an individual's specific needs and preferences. This can lead to frustration and disappointment, as customers may not see the desired results and may eventually give up on their healthy eating goals altogether.\n",
        "Another challenge is the time and effort required to plan and prepare healthy meals. Many individuals lead busy lives and do not have the time or energy to research and create nutritious meals every day. This can lead to unhealthy eating habits and may have negative consequences on their overall health and wellbeing.\n",
        "To address these challenges, stakeholders need to develop innovative solutions that provide personalized and convenient dietary recommendations. The food recommender system with a chatbot offers a unique and effective solution that addresses these challenges. It utilizes advanced technology to analyze an individual's weight and BMI and provides personalized diet recommendations for breakfast, lunch, and dinner. It also includes easy-to-follow recipes for each meal, making healthy eating more accessible and convenient for individuals.\n",
        "Overall, the business problem for stakeholders is to provide effective solutions that meet the needs of individuals in the highly competitive and crowded food and health industry. The food recommender system with a chatbot offers a unique and innovative solution that addresses the lack of personalized nutrition recommendations and the time and effort required to plan and prepare healthy meals.\n",
        "\n"
      ]
    },
    {
      "attachments": {},
      "cell_type": "markdown",
      "metadata": {},
      "source": [
        "### Main objective "
      ]
    },
    {
      "attachments": {},
      "cell_type": "markdown",
      "metadata": {},
      "source": [
        "> To develop a Food/recipe Recommendation system that suggests nutritious  food to individuals and gym instructors thus promoting a healthy lifestyle"
      ]
    },
    {
      "attachments": {},
      "cell_type": "markdown",
      "metadata": {},
      "source": [
        "### Specific objectives"
      ]
    },
    {
      "cell_type": "markdown",
      "metadata": {},
      "source": []
    },
    {
      "attachments": {},
      "cell_type": "markdown",
      "metadata": {},
      "source": [
        "- Identify the key features and factors that impact an individual's overall health, and determine which ones should be incorporated into the food recommendation system.\n",
        "- Clean and preprocess the nutrition data available in the dataset, and combine it with external data sources to create a comprehensive nutrition database that can be used by the recommendation system.\n",
        "- Develop and implement recommendation algorithms that can generate personalized food recommendations based on the user's individual characteristics such as age, gender, degree of physical activity,  locally available foods, and dietary customs.\n",
        "- Create a chatbot that can interact with users and collect relevant information such as dietary preferences, and restrictions, as well as any other relevant information that can be used to personalize food recommendations.\n",
        "- Integrate the recommendation algorithms and chatbot into a user-friendly and intuitive interface that allows users to easily access and interact with the system.\n",
        "- Deploy the food recommendation system and chatbot, and conduct user testing to gather feedback and identify areas for improvement."
      ]
    },
    {
      "attachments": {},
      "cell_type": "markdown",
      "metadata": {
        "id": "6FMs63sfRhLb"
      },
      "source": [
        "### Recording the experimental design."
      ]
    },
    {
      "attachments": {},
      "cell_type": "markdown",
      "metadata": {},
      "source": [
        "- Research Question: Can a user gaet a Food/recipe Recommendation system that suggests nutritious  food to them thus promoting a healthy lifestyle.\n",
        "- Data source: The nutrition dataset was obtained from [here](https://www.kaggle.com/datasets/trolukovich/nutritional-values-for-common-foods-and-products).\n",
        "This dataset contains information on approximately 8.8 thousand types of food. The dataset includes various features related to the nutrition value of each food item per 100gram serving. There are 75 features in total, you can find features like **calories**, **vitamin_d**, **zink**, **protein**, lactose. As you can see features names are very self-explanatory, so a description is not provided.\n",
        "- Variables: The variables in the merged data set are:id', 'name', 'minutes', 'nutrition', 'tags', 'ingredients', 'steps',\n",
        "       'calories', 'total fat (PDV)', 'sugar (PDV)', 'sodium (PDV)',\n",
        "       'protein (PDV)', 'saturated fat (PDV)', 'carbohydrates (PDV)'\n",
        "- Model evaluation: The metrics used to evaluate the model's performance are:accuracy,recall and RMSE.\n",
        "- Conclusions and recommendations."
      ]
    },
    {
      "attachments": {},
      "cell_type": "markdown",
      "metadata": {
        "id": "pP4bWKQlRn5C"
      },
      "source": [
        "###  Data relevance."
      ]
    },
    {
      "cell_type": "markdown",
      "metadata": {
        "id": "RS9gigJrSret"
      },
      "source": [
        "## B. DATA UNDERSTANDING."
      ]
    },
    {
      "cell_type": "code",
      "execution_count": 1,
      "metadata": {
        "id": "g8EhgffssdGu"
      },
      "outputs": [
        {
          "ename": "ModuleNotFoundError",
          "evalue": "No module named 'rasa_sdk'",
          "output_type": "error",
          "traceback": [
            "\u001b[0;31m---------------------------------------------------------------------------\u001b[0m",
            "\u001b[0;31mModuleNotFoundError\u001b[0m                       Traceback (most recent call last)",
            "Cell \u001b[0;32mIn[1], line 32\u001b[0m\n\u001b[1;32m     30\u001b[0m \u001b[39mimport\u001b[39;00m \u001b[39mtensorflow\u001b[39;00m \u001b[39mas\u001b[39;00m \u001b[39mtf\u001b[39;00m\n\u001b[1;32m     31\u001b[0m \u001b[39mfrom\u001b[39;00m \u001b[39mtyping\u001b[39;00m \u001b[39mimport\u001b[39;00m Any, Text, Dict, List\n\u001b[0;32m---> 32\u001b[0m \u001b[39mfrom\u001b[39;00m \u001b[39mrasa_sdk\u001b[39;00m \u001b[39mimport\u001b[39;00m Action, Tracker\n\u001b[1;32m     33\u001b[0m \u001b[39mfrom\u001b[39;00m \u001b[39mrasa_sdk\u001b[39;00m\u001b[39m.\u001b[39;00m\u001b[39mexecutor\u001b[39;00m \u001b[39mimport\u001b[39;00m CollectingDispatcher\n",
            "\u001b[0;31mModuleNotFoundError\u001b[0m: No module named 'rasa_sdk'"
          ]
        }
      ],
      "source": [
        "#load the relevant libraries\n",
        "import pandas as pd\n",
        "import numpy as np\n",
        "import seaborn as sns\n",
        "import matplotlib.pyplot as plt\n",
        "%matplotlib inline\n",
        "from wordcloud import WordCloud\n",
        "import plotly.express as px\n",
        "from wordcloud import WordCloud, STOPWORDS\n",
        "from sklearn.decomposition import PCA\n",
        "from sklearn.manifold import TSNE\n",
        "from surprise.model_selection import train_test_split\n",
        "from scipy.spatial.distance import euclidean, cosine, jaccard\n",
        "from sklearn.preprocessing import MinMaxScaler\n",
        "from sklearn.neighbors import NearestNeighbors\n",
        "import ipywidgets as widgets\n",
        "from IPython.display import display\n",
        "from surprise.prediction_algorithms import KNNWithMeans, KNNBasic\n",
        "from surprise import SVD\n",
        "from surprise.model_selection import train_test_split\n",
        "from surprise.model_selection import cross_validate\n",
        "from surprise.model_selection import GridSearchCV\n",
        "from surprise.prediction_algorithms import KNNWithMeans, KNNBasic\n",
        "from surprise import KNNWithMeans\n",
        "from surprise import accuracy\n",
        "from surprise import Reader\n",
        "from surprise import Dataset\n",
        "from sklearn.metrics.pairwise import cosine_similarity\n",
        "from sklearn.metrics import silhouette_score\n",
        "import tensorflow as tf\n",
        "from typing import Any, Text, Dict, List\n",
        "from rasa_sdk import Action, Tracker\n",
        "from rasa_sdk.executor import CollectingDispatcher"
      ]
    },
    {
      "cell_type": "markdown",
      "metadata": {
        "id": "VkGHd3WEUQta"
      },
      "source": [
        "## Load the Data Set."
      ]
    },
    {
      "cell_type": "code",
      "execution_count": null,
      "metadata": {
        "id": "tM-9nHSAsjVq"
      },
      "outputs": [],
      "source": [
        "#loading the data set\n",
        "recipes = pd.read_csv(\"/Users/mac/Downloads/maindata 2/RAW_recipes.csv\")\n",
        "nutrition = pd.read_csv(\"/Users/mac/Downloads/maindata 2/nutrition.csv\",index_col=0)"
      ]
    },
    {
      "cell_type": "code",
      "execution_count": null,
      "metadata": {
        "colab": {
          "base_uri": "https://localhost:8080/",
          "height": 476
        },
        "id": "d1r9FOD4tJir",
        "outputId": "f0683a50-3be7-48c1-8ec0-2925d8350781"
      },
      "outputs": [],
      "source": [
        "#getting a preview of the recipes data set\n",
        "recipes.head()"
      ]
    },
    {
      "cell_type": "code",
      "execution_count": null,
      "metadata": {
        "colab": {
          "base_uri": "https://localhost:8080/",
          "height": 404
        },
        "id": "NWBVcFyBUxfQ",
        "outputId": "f963eee0-ab10-4784-e564-9805d7b55122"
      },
      "outputs": [],
      "source": [
        "#get a preview of the nutrition data set\n",
        "nutrition.head()"
      ]
    },
    {
      "cell_type": "markdown",
      "metadata": {
        "id": "umH4OiWb3YKX"
      },
      "source": [
        "## Data Understanding"
      ]
    },
    {
      "cell_type": "markdown",
      "metadata": {
        "id": "RCxmIzk6-k_9"
      },
      "source": [
        "This project will include 2 datasets \n",
        "\n",
        "**Recipes**\n",
        "\n",
        "**Nutrition**\n",
        "\n",
        "Recipes data set was obtained from [ here ](https://www.kaggle.com/datasets/shuyangli94/food-com-recipes-and-user-interactions). It countains a a list of 230186 rows of recipes and 12 columns. \n",
        "*   name - Recipe name\n",
        "*   id - Recipe ID\n",
        "*   minutes - Minutes to prepare recipe\n",
        "*   contributor_id - User ID who submitted this recipe\n",
        "*   submitted - Date recipe was submitted\n",
        "*   tags - Food.com tags for recipe\n",
        "*   nutrition - Nutrition information (calories (#), total fat (PDV), sugar (PDV) ,sodium (PDV) , protein (PDV) , saturated fat (PDV) , and carbohydrates (PDV))\n",
        "*   n_steps - Number of steps in recipe\n",
        "*   steps - Text for recipe steps, in order\n",
        "*   description - User-provided description\n",
        "*   ingredients - List of ingredient names\n",
        "*   n_ingredients - Number of ingredients\n",
        "\n"
      ]
    },
    {
      "cell_type": "markdown",
      "metadata": {
        "id": "qcBRjPKXD0LR"
      },
      "source": [
        "The nutrition dataset was obtained from [here](https://www.kaggle.com/datasets/trolukovich/nutritional-values-for-common-foods-and-products).\n",
        "\n",
        "This dataset contains information on approximately 8.8 thousand types of food. The dataset includes various features related to the nutrition value of each food item per 100gram serving. There are 75 features in total, you can find features like **calories**, **vitamin_d**, **zink**, **protein**, lactose. As you can see features names are very self-explanatory, so a description is not provided."
      ]
    },
    {
      "cell_type": "markdown",
      "metadata": {
        "id": "GXmybA6US5oc"
      },
      "source": [
        "## C. DATA PREPROCESSING"
      ]
    },
    {
      "cell_type": "code",
      "execution_count": null,
      "metadata": {
        "colab": {
          "base_uri": "https://localhost:8080/"
        },
        "id": "LHZk680BWkl-",
        "outputId": "3844ea1e-088d-48cf-ac5b-0b2c6bd00c52"
      },
      "outputs": [],
      "source": [
        "#getting info of the nutrition data set.\n",
        "nutrition.info()"
      ]
    },
    {
      "cell_type": "code",
      "execution_count": null,
      "metadata": {},
      "outputs": [],
      "source": [
        "# creating a new dataframe remaining with the relevant features for our model.\n",
        "nutrition_df = nutrition.loc[:, ['name','serving_size','calories','total_fat','saturated_fat','cholesterol','sodium','potassium']]\n",
        "\n"
      ]
    },
    {
      "cell_type": "markdown",
      "metadata": {
        "id": "peNVrNKBW038"
      },
      "source": [
        "> As seen,the nutrition data set has no missing data.However,the data set has object data types which need to be converted to numerical data types."
      ]
    },
    {
      "cell_type": "code",
      "execution_count": null,
      "metadata": {
        "id": "RIhw78Fdb4lj"
      },
      "outputs": [],
      "source": [
        "#creating a function that strips and converts feautures to float type\n",
        "def clean_df(df, col_name):\n",
        "  # Create a copy of the input DataFrame to avoid modifying the original data\n",
        "    cleaned_df = df.copy()\n",
        "    \n",
        "    # Strip whitespace characters and replace non-numeric characters with nothing\n",
        "    cleaned_df[col_name] = cleaned_df[col_name].str.strip().replace('[^\\d\\.]', '', regex=True)\n",
        "    \n",
        "    # Convert the column to float data type\n",
        "    cleaned_df[col_name] = pd.to_numeric(cleaned_df[col_name], errors='coerce').astype(float)\n",
        "    \n",
        "    return cleaned_df\n",
        "    "
      ]
    },
    {
      "cell_type": "code",
      "execution_count": null,
      "metadata": {
        "id": "8-WA7rMieJMY"
      },
      "outputs": [],
      "source": [
        "#cleaning all the columnns in the nutrition data frame.\n",
        "cols_to_clean = [ 'serving_size','calories', 'total_fat',\n",
        "       'saturated_fat', 'cholesterol', 'sodium','potassium' ]\n",
        "for col in cols_to_clean:\n",
        "  nutrition_df[col] = nutrition_df[col].astype(str)\n",
        "  nutrition_df = clean_df(nutrition_df, col)"
      ]
    },
    {
      "cell_type": "code",
      "execution_count": null,
      "metadata": {
        "colab": {
          "base_uri": "https://localhost:8080/",
          "height": 386
        },
        "id": "-wg_YKvwoDcD",
        "outputId": "985f2774-4154-4720-851a-c70096eef66f"
      },
      "outputs": [],
      "source": [
        "nutrition_df.head()"
      ]
    },
    {
      "cell_type": "code",
      "execution_count": null,
      "metadata": {},
      "outputs": [],
      "source": [
        "# renaming the columns \n",
        "\n",
        "nutrition_df = nutrition_df.rename(columns={'serving_size': 'serving_size(g)', 'total_fat': 'total_fat(g)', \n",
        "                                            'saturated_fat': 'saturated_fat(g)','cholesterol':'cholesterol(mg)',\n",
        "                                            'sodium':'sodium(mg)','potassium':'potassium(mg)'})"
      ]
    },
    {
      "cell_type": "code",
      "execution_count": null,
      "metadata": {},
      "outputs": [],
      "source": [
        "# checking for the missing values\n",
        "nutrition_df.isnull().sum()"
      ]
    },
    {
      "cell_type": "code",
      "execution_count": null,
      "metadata": {},
      "outputs": [],
      "source": [
        "# working on the missing values in the saturated fat column.\n",
        "mean_value = nutrition_df[\"saturated_fat(g)\"].mean()\n",
        "nutrition_df[\"saturated_fat(g)\"].fillna(mean_value,inplace=True)"
      ]
    },
    {
      "cell_type": "code",
      "execution_count": null,
      "metadata": {},
      "outputs": [],
      "source": [
        "#checking for duplicates.\n",
        "nutrition_df.duplicated().sum()"
      ]
    },
    {
      "cell_type": "markdown",
      "metadata": {
        "id": "qHsMQKotXNUw"
      },
      "source": [
        "> The dataset has no duplicates. "
      ]
    },
    {
      "cell_type": "code",
      "execution_count": null,
      "metadata": {
        "colab": {
          "base_uri": "https://localhost:8080/"
        },
        "id": "9TqUUCw9XajU",
        "outputId": "292f652c-0fcb-469d-bf03-bcef5600f8be"
      },
      "outputs": [],
      "source": [
        "#getting info of the recipes data set\n",
        "recipes.info()"
      ]
    },
    {
      "cell_type": "markdown",
      "metadata": {
        "id": "bvg4UUFKXsau"
      },
      "source": [
        "> Most of the column rows are consistent but some rows will need to be dropped and/or replaced."
      ]
    },
    {
      "cell_type": "code",
      "execution_count": null,
      "metadata": {},
      "outputs": [],
      "source": [
        "# creating a new recipes data frame of the recipes dataset with the relevant features.\n",
        "recipes_df = recipes.loc[:, ['id','name','minutes','nutrition','tags','ingredients','steps']]"
      ]
    },
    {
      "attachments": {},
      "cell_type": "markdown",
      "metadata": {},
      "source": [
        "> For better analysis of the recipes data set, the nutrition column had to be stripped create separate columns."
      ]
    },
    {
      "cell_type": "code",
      "execution_count": null,
      "metadata": {},
      "outputs": [],
      "source": [
        "\n",
        "#retrieving individual nutrients from the recipes data set.\n",
        "recipes_df[['calories','total fat (PDV)','sugar (PDV)','sodium (PDV)','protein (PDV)','saturated fat (PDV)','carbohydrates (PDV)']] = recipes.nutrition.str.split(\",\",expand=True)\n",
        "recipes_df['calories'] =  recipes_df['calories'].apply(lambda x: x.replace('[','')) \n",
        "recipes_df['carbohydrates (PDV)'] =  recipes_df['carbohydrates (PDV)'].apply(lambda x: x.replace(']',''))  "
      ]
    },
    {
      "cell_type": "code",
      "execution_count": null,
      "metadata": {},
      "outputs": [],
      "source": [
        "#dropping the nutrition column\n",
        "recipes_df.drop(['nutrition'],axis=1).head()"
      ]
    },
    {
      "cell_type": "code",
      "execution_count": null,
      "metadata": {},
      "outputs": [],
      "source": [
        "#cleaning all the columnns in the recipes data frame.\n",
        "cols_to_clean = [ 'calories',\n",
        "       'total fat (PDV)', 'sugar (PDV)', 'sodium (PDV)', 'protein (PDV)',\n",
        "       'saturated fat (PDV)', 'carbohydrates (PDV)' ]\n",
        "for col in cols_to_clean:\n",
        "  recipes_df[col] = recipes_df[col].astype(str)\n",
        "  recipes_df = clean_df(recipes_df, col)"
      ]
    },
    {
      "cell_type": "code",
      "execution_count": null,
      "metadata": {},
      "outputs": [],
      "source": [
        "recipes_df.head()"
      ]
    },
    {
      "cell_type": "code",
      "execution_count": null,
      "metadata": {},
      "outputs": [],
      "source": [
        "#checking for null values.\n",
        "recipes_df.isnull().sum()\n"
      ]
    },
    {
      "cell_type": "code",
      "execution_count": null,
      "metadata": {},
      "outputs": [],
      "source": [
        "#dropping all rows with missing values \n",
        "recipes_df.dropna(inplace=True)"
      ]
    },
    {
      "cell_type": "code",
      "execution_count": null,
      "metadata": {},
      "outputs": [],
      "source": [
        "#confirming there are no missing values\n",
        "recipes_df.isnull().sum()"
      ]
    },
    {
      "attachments": {},
      "cell_type": "markdown",
      "metadata": {},
      "source": [
        "## External Data Source validation"
      ]
    },
    {
      "attachments": {},
      "cell_type": "markdown",
      "metadata": {},
      "source": [
        "The prevalence of food recommendation systems has increased significantly, with a multitude of factors affecting an individual's overall health, including genetics, exercise, sleep, and other external factors. Nutrition has been identified as one of the most significant modifiable factors, and even minor changes in one's diet can result in substantial outcomes.\n",
        "Calorie counting has become a popular technique employed by medical professionals and nutritionists to recommend appropriate diets. For individuals of healthy weight, consuming roughly 2000 calories per day is ideal. However, a diversified, balanced, and nutritious diet will vary based on individual characteristics, cultural context, locally available foods, and dietary customs. \n",
        "The Food.com website was the source of the data used in this study. Food.com is a digital brand and social networking service that features recipes from both home cooks and celebrity chefs, as well as food news, new and classic shows, and pop culture. The website was launched in September 2017 and offers recipes, photos, articles, and video content on the web as well as video streaming and smartphone apps."
      ]
    },
    {
      "attachments": {},
      "cell_type": "markdown",
      "metadata": {
        "id": "d45AgcDjpE-J"
      },
      "source": [
        "## Exploratory Data Analysis."
      ]
    },
    {
      "cell_type": "code",
      "execution_count": null,
      "metadata": {},
      "outputs": [],
      "source": [
        "#descriptive statistics for nutrition data set.\n",
        "nutrition_df.describe()"
      ]
    },
    {
      "attachments": {},
      "cell_type": "markdown",
      "metadata": {},
      "source": [
        "> As seen from above,the average serving size is 100 g.Averagely,per serving the meals would have 226.28 calories."
      ]
    },
    {
      "cell_type": "code",
      "execution_count": null,
      "metadata": {},
      "outputs": [],
      "source": [
        "recipes_df.columns"
      ]
    },
    {
      "cell_type": "code",
      "execution_count": null,
      "metadata": {},
      "outputs": [],
      "source": [
        "#descriptive statistics for recipes data set.\n",
        "recipes_df.describe()"
      ]
    },
    {
      "attachments": {},
      "cell_type": "markdown",
      "metadata": {},
      "source": [
        "> Avaragely,a meal would take upto 40 minutes to be prepared."
      ]
    },
    {
      "attachments": {},
      "cell_type": "markdown",
      "metadata": {},
      "source": [
        "## Nutrition dataset"
      ]
    },
    {
      "cell_type": "code",
      "execution_count": null,
      "metadata": {},
      "outputs": [],
      "source": [
        "nutrition_df.columns"
      ]
    },
    {
      "cell_type": "code",
      "execution_count": null,
      "metadata": {},
      "outputs": [],
      "source": [
        "\n",
        "# Create a scatter plot for each nutrient column\n",
        "fig, axs = plt.subplots(nrows=2, ncols=3, figsize=(30, 16))\n",
        "nutrient_cols = ['total_fat(g)', 'saturated_fat(g)', 'cholesterol(mg)', 'sodium(mg)', 'potassium(mg)']\n",
        "\n",
        "# Flatten the axes array to iterate over it in a 1D fashion\n",
        "axs = axs.flatten()\n",
        "\n",
        "# Loop over each nutrient column to create a scatter plot\n",
        "for i, col in enumerate(nutrient_cols):\n",
        "    axs[i].scatter(nutrition_df['calories'], nutrition_df[col])\n",
        "    axs[i].set_xlabel('Calories')\n",
        "    axs[i].set_ylabel(col.capitalize())\n",
        "\n",
        "# Remove any unused axes\n",
        "for ax in axs[5:]:\n",
        "    ax.remove()\n",
        "\n",
        "# Adjust the spacing between the plots\n",
        "plt.subplots_adjust(wspace=0.4, hspace=0.4)\n",
        "\n",
        "# Show the plots\n",
        "plt.show()\n"
      ]
    },
    {
      "cell_type": "code",
      "execution_count": null,
      "metadata": {},
      "outputs": [],
      "source": [
        "#distribution of serving size\n",
        "plt.figure(figsize=(15, 8))\n",
        "sns.set_style('whitegrid')\n",
        "sns.set(font_scale=1.5)\n",
        "plt.title('Distribution of serving size')\n",
        "sns.histplot(data=nutrition_df,x='serving_size(g)')\n",
        "plt.show()"
      ]
    },
    {
      "attachments": {},
      "cell_type": "markdown",
      "metadata": {},
      "source": [
        "> In the dataset used,the serving size per food was 100 grams."
      ]
    },
    {
      "cell_type": "code",
      "execution_count": null,
      "metadata": {},
      "outputs": [],
      "source": [
        "# Create a correlation matrix of the columns of interest\n",
        "corr_matrix = nutrition_df[['calories','total_fat(g)',\n",
        "       'saturated_fat(g)', 'cholesterol(mg)', 'sodium(mg)', 'potassium(mg)']].corr()\n",
        "mask = np.zeros_like(corr_matrix)\n",
        "mask[np.triu_indices_from(mask)] = True\n",
        "# Create the heatmap using seaborn\n",
        "plt.figure(figsize=(20,7))\n",
        "sns.heatmap(corr_matrix, annot=True, cmap='coolwarm',mask=mask)\n",
        "# Show the plot\n",
        "plt.title('Correlation between the columns')\n",
        "plt.show()"
      ]
    },
    {
      "attachments": {},
      "cell_type": "markdown",
      "metadata": {},
      "source": [
        " The highest correlation is seen between the number of and the amount of total fat in the food specificied.Given a scenario a user wants to reduce the number of calorie intake,they would need to avoid foods with high total fat."
      ]
    },
    {
      "attachments": {},
      "cell_type": "markdown",
      "metadata": {},
      "source": [
        "## Recipes dataset"
      ]
    },
    {
      "attachments": {},
      "cell_type": "markdown",
      "metadata": {},
      "source": [
        "> As the recipe is too big and would take up too much computational power,a random sample will be retrieved."
      ]
    },
    {
      "cell_type": "code",
      "execution_count": null,
      "metadata": {},
      "outputs": [],
      "source": [
        "# getting the recipes random sample.\n",
        "recipes_sample_df = recipes_df.sample(n=2000, random_state=42)"
      ]
    },
    {
      "cell_type": "code",
      "execution_count": null,
      "metadata": {},
      "outputs": [],
      "source": [
        "# Concatenate all ingredients into a single string\n",
        "all_ingredients = ' '.join(recipes_df['ingredients'])\n",
        "\n",
        "# Create a word cloud\n",
        "plt.figure(figsize=(20,7))\n",
        "wordcloud = WordCloud(width=800, height=400, max_words=200, background_color='white').generate(all_ingredients)\n",
        "\n",
        "# Display the word cloud\n",
        "plt.imshow(wordcloud, interpolation='bilinear')\n",
        "plt.axis('off')\n",
        "plt.show()"
      ]
    },
    {
      "attachments": {},
      "cell_type": "markdown",
      "metadata": {},
      "source": [
        "The most popular ingredients used by the users for their recipes include garlic,cloves,olive oil and black pepper."
      ]
    },
    {
      "cell_type": "code",
      "execution_count": null,
      "metadata": {},
      "outputs": [],
      "source": [
        "sns.histplot(data=recipes_df,x='calories');\n",
        "plt.title('Distribution of calories')\n",
        "plt.show()"
      ]
    },
    {
      "attachments": {},
      "cell_type": "markdown",
      "metadata": {},
      "source": [
        "# Implementing the solution"
      ]
    },
    {
      "attachments": {},
      "cell_type": "markdown",
      "metadata": {},
      "source": [
        "### Outliers"
      ]
    },
    {
      "cell_type": "code",
      "execution_count": null,
      "metadata": {},
      "outputs": [],
      "source": [
        "# getting numerical columns\n",
        "num_cols = recipes_df.select_dtypes(exclude = ['object'])"
      ]
    },
    {
      "cell_type": "code",
      "execution_count": null,
      "metadata": {},
      "outputs": [],
      "source": [
        "#checking for maximum value for calories\n",
        "recipes_df['calories'].max()"
      ]
    },
    {
      "cell_type": "code",
      "execution_count": null,
      "metadata": {},
      "outputs": [],
      "source": [
        "#plotting to check for outliers\n",
        "fig, axes = plt.subplots(3, 3, figsize=(20, 20))\n",
        "\n",
        "cols = ['calories', 'total fat (PDV)', 'sugar (PDV)', \n",
        "        'sodium (PDV)', 'protein (PDV)', 'saturated fat (PDV)', \n",
        "        'carbohydrates (PDV)']\n",
        "\n",
        "for i, col in enumerate(cols):\n",
        "    sns.boxplot(ax=axes[i//3, i%3], x=recipes_df[col])"
      ]
    },
    {
      "cell_type": "code",
      "execution_count": null,
      "metadata": {},
      "outputs": [],
      "source": [
        "#create a function that removes outliers\n",
        "def outlierRemover(df, columns):\n",
        "    for x in columns:\n",
        "        q25,q75 = np.percentile(df[x],[25,75])\n",
        "        intr_qr = q75-q25\n",
        "        min_val = q25-(1.5*intr_qr)\n",
        "        max_val = q75+(1.5*intr_qr)\n",
        "        df.loc[df[x] < min_val, x] = np.nan\n",
        "        df.loc[df[x] > max_val, x] = np.nan\n",
        "    return df"
      ]
    },
    {
      "cell_type": "code",
      "execution_count": null,
      "metadata": {},
      "outputs": [],
      "source": [
        "#calling the removing outlier function\n",
        "num_cols = [\"calories\", 'total fat (PDV)', 'sugar (PDV)', 'sodium (PDV)',\n",
        "       'protein (PDV)', 'saturated fat (PDV)', 'carbohydrates (PDV)']\n",
        "recipes_df = outlierRemover(recipes_df, num_cols)"
      ]
    },
    {
      "cell_type": "code",
      "execution_count": null,
      "metadata": {},
      "outputs": [],
      "source": [
        "#confirming number of missing values\n",
        "recipes_df.isnull().sum()"
      ]
    },
    {
      "cell_type": "code",
      "execution_count": null,
      "metadata": {},
      "outputs": [],
      "source": [
        "# Dropping rows with missing values\n",
        "recipes_df = recipes_df.dropna()"
      ]
    },
    {
      "attachments": {},
      "cell_type": "markdown",
      "metadata": {},
      "source": [
        "## Normalize the data "
      ]
    },
    {
      "cell_type": "code",
      "execution_count": null,
      "metadata": {},
      "outputs": [],
      "source": [
        "scaler = MinMaxScaler()\n",
        "recipes_data = scaler.fit_transform(recipes_df.drop(columns=['name','id','minutes','nutrition','tags','ingredients','steps']))\n",
        "normalized_recipes = scaler.fit_transform(recipes_data)\n",
        "normalized_recipes_df = pd.DataFrame(normalized_recipes)"
      ]
    },
    {
      "cell_type": "markdown",
      "metadata": {
        "id": "RRiGXOL3S-aa"
      },
      "source": [
        "## D. MODELLING"
      ]
    },
    {
      "cell_type": "markdown",
      "metadata": {},
      "source": []
    },
    {
      "cell_type": "markdown",
      "metadata": {
        "id": "D2eALuRyup1f"
      },
      "source": [
        "### Baseline Model."
      ]
    },
    {
      "cell_type": "code",
      "execution_count": null,
      "metadata": {
        "id": "gUmNXIGUuoo0"
      },
      "outputs": [],
      "source": [
        "\n",
        "class CalorieBasedRecommender:\n",
        "    \n",
        "    def __init__(self, df):\n",
        "        self.df = df\n",
        "        \n",
        "    def recommend(self, target_calories, num_recommendations=5):\n",
        "        recommendations = []\n",
        "        for index, row in self.df.iterrows():\n",
        "            if row['calories'] <= target_calories:\n",
        "                recommendations.append(row['name'])\n",
        "            if len(recommendations) == num_recommendations:\n",
        "                break\n",
        "        return recommendations\n"
      ]
    },
    {
      "attachments": {},
      "cell_type": "markdown",
      "metadata": {},
      "source": [
        "This is the baseline model with a class that takes in the dataframe.The recommend method takes as input a target calorie value and the number of recommendations desired, and returns a list of food recommendations that have equal  calories than the target calorie value."
      ]
    },
    {
      "cell_type": "code",
      "execution_count": null,
      "metadata": {},
      "outputs": [],
      "source": [
        "recommender = CalorieBasedRecommender(nutrition_df)\n",
        "target_calories = 1000\n",
        "num_recommendations = 20\n",
        "\n",
        "recommendations = recommender.recommend(target_calories, num_recommendations)\n"
      ]
    },
    {
      "cell_type": "code",
      "execution_count": null,
      "metadata": {},
      "outputs": [],
      "source": [
        "recommendations"
      ]
    },
    {
      "cell_type": "code",
      "execution_count": null,
      "metadata": {},
      "outputs": [],
      "source": [
        "\n",
        "class CalorieBasedRecommender1:\n",
        "    \n",
        "    def __init__(self, df):\n",
        "        self.df = df\n",
        "        \n",
        "    def recommend(self, target_calories, num_recommendations=5):\n",
        "        recommendations = []\n",
        "        for index, row in self.df.iterrows():\n",
        "            if row['calories'] == target_calories:\n",
        "                recommendations.append((row['name'], row['ingredients'],row['steps']))\n",
        "            if len(recommendations) == num_recommendations:\n",
        "                break\n",
        "        return recommendations\n"
      ]
    },
    {
      "cell_type": "code",
      "execution_count": null,
      "metadata": {},
      "outputs": [],
      "source": [
        "recommender = CalorieBasedRecommender1(recipes_df)\n",
        "target_calories = 51.5\n",
        "num_recommendations = 1\n",
        "\n",
        "recommendations = recommender.recommend(target_calories, num_recommendations)"
      ]
    },
    {
      "cell_type": "code",
      "execution_count": null,
      "metadata": {},
      "outputs": [],
      "source": [
        "recommendations"
      ]
    },
    {
      "attachments": {},
      "cell_type": "markdown",
      "metadata": {},
      "source": [
        "## KNN Model"
      ]
    },
    {
      "attachments": {},
      "cell_type": "markdown",
      "metadata": {},
      "source": [
        "Due to the size of the data set and lack of computational power,a sample has to be created from the main data set."
      ]
    },
    {
      "cell_type": "code",
      "execution_count": null,
      "metadata": {},
      "outputs": [],
      "source": [
        "recipes_sample = recipes_df.sample(n=20000, random_state=42)"
      ]
    },
    {
      "cell_type": "code",
      "execution_count": null,
      "metadata": {},
      "outputs": [],
      "source": [
        "# Define the format of the dataframe\n",
        "reader = Reader(rating_scale=(0, 5))\n",
        "\n",
        "# Convert your dataframe to a Surprise dataset\n",
        "data = Dataset.load_from_df(recipes_sample[['id', 'name', 'minutes']], reader)\n",
        "\n",
        "#generating a trainset\n",
        "dataset = data.build_full_trainset()\n",
        "print('Number of users: ', dataset.n_users, '\\n')\n",
        "print('Number of items: ', dataset.n_items)"
      ]
    },
    {
      "cell_type": "code",
      "execution_count": null,
      "metadata": {},
      "outputs": [],
      "source": [
        "# knn algoritms\n",
        "print('KNN_BASIC')\n",
        "print('*************************************************************************')\n",
        "\n",
        "cv_knn_basic = cross_validate(KNNBasic(), data, cv=5, n_jobs=5, verbose=True)\n",
        "\n",
        "print('KNN_MEANS')\n",
        "print('*************************************************************************')\n",
        "\n",
        "\n",
        "cv_knn_means = cross_validate(KNNWithMeans(), data, cv=5, n_jobs=5, verbose=True)"
      ]
    },
    {
      "attachments": {},
      "cell_type": "markdown",
      "metadata": {},
      "source": [
        "> For the first model, KNN_MEANS, the mean RMSE across all folds is 26.9996, with a standard deviation of 6.9996. The mean MAE is 102.2880. The fit time is approximately 18.4 seconds per fold, and the test time is approximately 0.09 seconds per fold.\n",
        "\n",
        "> For the second model,the mean RMSE across all folds is 117.5033, with a standard deviation of 37.5033. The mean MAE is 143.7001. The fit time is approximately 19.4 seconds per fold, and the test time is approximately 0.05 seconds per fold."
      ]
    },
    {
      "attachments": {},
      "cell_type": "markdown",
      "metadata": {},
      "source": [
        "Overall, it seems like the first model (KNN_MEANS) performs better than the second model, with lower RMSE and MAE values."
      ]
    },
    {
      "attachments": {},
      "cell_type": "markdown",
      "metadata": {},
      "source": [
        "## SVD Model"
      ]
    },
    {
      "cell_type": "code",
      "execution_count": null,
      "metadata": {},
      "outputs": [],
      "source": [
        "#svd\n",
        "print('SVD')\n",
        "print('*************************************************************************')\n",
        "\n",
        "cv_svd = cross_validate(SVD(), data, cv=5, n_jobs=5, verbose=True)"
      ]
    },
    {
      "cell_type": "code",
      "execution_count": null,
      "metadata": {},
      "outputs": [],
      "source": [
        "#summary of SVD and KNN results\n",
        "print('Evaluation Results:')\n",
        "print('Algoritm\\t RMSE\\t\\t MAE')\n",
        "print()\n",
        "\n",
        "\n",
        "print('KNN Basic', '\\t', round(cv_knn_basic['test_rmse'].mean(), 4), '\\t\\t', round(cv_knn_basic['test_mae'].mean(), 4))\n",
        "print('KNN Means', '\\t', round(cv_knn_means['test_rmse'].mean(), 4), '\\t', round(cv_knn_means['test_mae'].mean(), 4))\n",
        "print()\n",
        "print('SVD', '\\t\\t', round(cv_svd['test_rmse'].mean(), 4), '\\t', round(cv_svd['test_mae'].mean(), 4))"
      ]
    },
    {
      "cell_type": "code",
      "execution_count": null,
      "metadata": {},
      "outputs": [],
      "source": [
        "#compare accuracy of each algorithm\n",
        "\n",
        "\n",
        "# Plotting graphs for comparing accuracy of each algo\n",
        "x_algo = ['KNN Basic', 'KNN Means', 'SVD']\n",
        "all_algos_cv = [cv_knn_basic, cv_knn_means, cv_svd]\n",
        "\n",
        "rmse_cv = [round(res['test_rmse'].mean(), 4) for res in all_algos_cv]\n",
        "mae_cv = [round(res['test_mae'].mean(), 4) for res in all_algos_cv]\n",
        "\n",
        "plt.figure(figsize=(20,5))\n",
        "\n",
        "# RMSE graph\n",
        "plt.subplot(1, 2, 1)\n",
        "plt.title('Comparison of Algorithms on RMSE', loc='center', fontsize=15)\n",
        "plt.plot(x_algo, rmse_cv, label='RMSE', color='darkgreen', marker='o')\n",
        "plt.xlabel('Algorithms', fontsize=15)\n",
        "plt.ylabel('RMSE Value', fontsize=15)\n",
        "plt.legend()\n",
        "plt.grid(ls='dashed')\n",
        "\n",
        "# MAE graph\n",
        "plt.subplot(1, 2, 2)\n",
        "plt.title('Comparison of Algorithms on MAE', loc='center', fontsize=15)\n",
        "plt.plot(x_algo, mae_cv, label='MAE', color='navy', marker='o')\n",
        "plt.xlabel('Algorithms', fontsize=15)\n",
        "plt.ylabel('MAE Value', fontsize=15)\n",
        "plt.legend()\n",
        "plt.grid(ls='dashed')\n",
        "#plt.savefig('Images/RMSE_MAE')\n",
        "plt.show()"
      ]
    },
    {
      "attachments": {},
      "cell_type": "markdown",
      "metadata": {},
      "source": [
        "## Hyperparameter tuning model"
      ]
    },
    {
      "cell_type": "code",
      "execution_count": null,
      "metadata": {},
      "outputs": [],
      "source": [
        "# define the parameter grid for k\n",
        "param_grid = {'k': [5, 10, 15, 20, 25]}\n",
        "\n",
        "# perform grid search for KNNBasic\n",
        "knn_basic_grid = GridSearchCV(KNNBasic, param_grid, measures=['rmse'], cv=5)\n",
        "knn_basic_grid.fit(data)\n",
        "\n",
        "# get the best k value and its corresponding RMSE score for KNNBasic\n",
        "best_k_basic = knn_basic_grid.best_params['rmse']['k']\n",
        "best_rmse_basic = knn_basic_grid.best_score['rmse']\n",
        "\n",
        "# perform grid search for KNNWithMeans\n",
        "knn_means_grid = GridSearchCV(KNNWithMeans, param_grid, measures=['rmse'], cv=5)\n",
        "knn_means_grid.fit(data)\n",
        "\n",
        "# get the best k value and its corresponding RMSE score for KNNWithMeans\n",
        "best_k_means = knn_means_grid.best_params['rmse']['k']\n",
        "best_rmse_means = knn_means_grid.best_score['rmse']\n",
        "\n",
        "# print the best k values and their corresponding RMSE scores\n",
        "print('Best k value and RMSE score for KNNBasic: k = {}, RMSE = {:.4f}'.format(best_k_basic, best_rmse_basic))\n",
        "print('Best k value and RMSE score for KNNWithMeans: k = {}, RMSE = {:.4f}'.format(best_k_means, best_rmse_means))"
      ]
    },
    {
      "attachments": {},
      "cell_type": "markdown",
      "metadata": {},
      "source": [
        "Optimal k is at 5.Check to see best distance metrics out of pearson, cosine, msd, and pearson baseline."
      ]
    },
    {
      "cell_type": "code",
      "execution_count": null,
      "metadata": {},
      "outputs": [],
      "source": [
        "# comparing distance matrix\n",
        "\n",
        "knn_means_cosine = cross_validate(KNNWithMeans(k=5, sim_options={'name':'cosine'}), data, cv=5, n_jobs=5, verbose=False)\n",
        "knn_means_pearson = cross_validate(KNNWithMeans(k=5, sim_options={'name':'pearson'}), data, cv=5, n_jobs=5, verbose=False)\n",
        "knn_means_msd = cross_validate(KNNWithMeans(k=5, sim_options={'name':'msd'}), data, cv=5, n_jobs=5, verbose=False)\n",
        "knn_means_pearson_baseline = cross_validate(KNNWithMeans(k=5, sim_options={'name':'pearson_baseline'}), data, cv=5, n_jobs=5, verbose=False)\n",
        "\n",
        "\n",
        "x_distance = ['cosine', 'pearson', 'msd', 'pearson_baseline',]\n",
        "all_distances_cv = [knn_means_cosine, knn_means_pearson, knn_means_msd, knn_means_pearson_baseline]\n",
        "\n",
        "rmse_cv = [round(res['test_rmse'].mean(), 4) for res in all_distances_cv]\n",
        "mae_cv = [round(res['test_mae'].mean(), 4) for res in all_distances_cv]\n",
        "\n",
        "plt.figure(figsize=(20,5))\n",
        "\n",
        "plt.subplot(1, 2, 1)\n",
        "plt.title('Comparison of Distance Metrics on RMSE', loc='center', fontsize=15)\n",
        "plt.plot(x_distance, rmse_cv, label='RMSE', color='darkgreen', marker='o')\n",
        "plt.xlabel('Distance Metrics', fontsize=15)\n",
        "plt.ylabel('RMSE Value', fontsize=15)\n",
        "plt.legend()\n",
        "plt.grid(ls='dashed')\n",
        "\n",
        "plt.subplot(1, 2, 2)\n",
        "plt.title('Comparison of Distance Metrics on MAE', loc='center', fontsize=15)\n",
        "plt.plot(x_distance, mae_cv, label='MAE', color='navy', marker='o')\n",
        "plt.xlabel('Distance Metrics', fontsize=15)\n",
        "plt.ylabel('MAE Value', fontsize=15)\n",
        "plt.legend()\n",
        "plt.grid(ls='dashed')\n",
        "plt.savefig('Images/Comparison_of_Distance_metrics')\n",
        "plt.show()"
      ]
    },
    {
      "attachments": {},
      "cell_type": "markdown",
      "metadata": {},
      "source": [
        "> Based on hyperparameter tuning above, best is KNN-Means with cosine similarity where k is 5. The RMSE is =4350."
      ]
    },
    {
      "attachments": {},
      "cell_type": "markdown",
      "metadata": {},
      "source": [
        "Use gridsearch to optimize SVD model for number of epochs, regularization, and learning rate. "
      ]
    },
    {
      "cell_type": "code",
      "execution_count": null,
      "metadata": {},
      "outputs": [],
      "source": [
        "#Parameter space\n",
        "svd_param_grid = {'n_epochs': [20, 25, 30, 40, 50],\n",
        "                  'lr_all': [0.007, 0.009, 0.01, 0.02],\n",
        "                  'reg_all': [0.02, 0.04, 0.1, 0.2]}\n",
        "\n",
        "# This will take 20 to 30 minutes.\n",
        "gs_svd = GridSearchCV(SVD, svd_param_grid, measures=['rmse', 'mae'], cv=5, n_jobs=5)\n",
        "gs_svd.fit(data)\n",
        "\n",
        "print('Best value for SVD  -RMSE:', round(gs_svd.best_score['rmse'], 4), '; MAE:', round(gs_svd.best_score['mae'], 4))\n",
        "print('Optimal params RMSE =', gs_svd.best_params['rmse'])\n",
        "print('optimal params MAE =', gs_svd.best_params['mae'])"
      ]
    },
    {
      "attachments": {},
      "cell_type": "markdown",
      "metadata": {},
      "source": [
        "## Test Predictions "
      ]
    },
    {
      "attachments": {},
      "cell_type": "markdown",
      "metadata": {},
      "source": [
        "Evaluate to see if the KNN and SVD models above are working as expected and choose the best."
      ]
    },
    {
      "cell_type": "code",
      "execution_count": null,
      "metadata": {},
      "outputs": [],
      "source": [
        "# fit knn_means model on training set\n",
        "dataset = data.build_full_trainset()\n",
        "final_knn_model = KNNWithMeans(k=5, sim_options={'name': 'cosine'})\n",
        "final_knn_model.fit(dataset)"
      ]
    },
    {
      "cell_type": "code",
      "execution_count": null,
      "metadata": {},
      "outputs": [],
      "source": [
        "#fit svd model on training set\n",
        "final_svd_model = SVD(n_epochs=20, lr_all=0.007, reg_all=0.02)\n",
        "final_svd_model.fit(dataset)"
      ]
    },
    {
      "cell_type": "code",
      "execution_count": null,
      "metadata": {},
      "outputs": [],
      "source": [
        "# Specify the recipe ID for which you want to get the list of similar recipes\n",
        "rec_id = 31490\n",
        "\n",
        "final_df = recipes_df[recipes_df['id'] == rec_id][['id', 'name', 'minutes']]\n",
        "final_df.head(20)"
      ]
    },
    {
      "cell_type": "code",
      "execution_count": null,
      "metadata": {},
      "outputs": [],
      "source": [
        "def recommend_recipes_by_calories(df, target_calories, num_recipes=10): \n",
        "    # Filter recipes with similar calorie counts\n",
        "    similar_recipes = df[df['calories'].between(target_calories - 100, target_calories + 100)]\n",
        "    \n",
        "    # Sort the recipes by their similarity to the target calorie count\n",
        "    similar_recipes = similar_recipes.sort_values(by=['calories'], ascending=True)\n",
        "    \n",
        "    # Select the top N most similar recipes\n",
        "    recommended_recipes = similar_recipes.head(num_recipes)\n",
        "    \n",
        "    return recommended_recipes\n"
      ]
    },
    {
      "cell_type": "code",
      "execution_count": null,
      "metadata": {},
      "outputs": [],
      "source": [
        "recommender = recommend_recipes_by_calories(recipes_df)\n",
        "target_calories = 100\n",
        "num_recipes = 2\n",
        "\n",
        "recommended_recipes = recommend_recipes_by_calories(recipes_df, target_calories, num_recipes)\n"
      ]
    },
    {
      "attachments": {},
      "cell_type": "markdown",
      "metadata": {},
      "source": [
        "This code loads a dataset of recipes and their nutritional information, normalizes the features, and calculates the cosine similarity matrix between all recipes based on their nutritional information. Then, the recommend_recipe_by_calories function takes as input a desired calorie count and a number of recommendations to return, selects recipes with similar calorie counts, calculates the mean similarity of each selected recipe with all recipes, ranks the recipes based on similarity, and returns the top N recommended recipe codes."
      ]
    },
    {
      "attachments": {},
      "cell_type": "markdown",
      "metadata": {},
      "source": [
        "It takes as input the desired calorie count and the number of recommendations, and then computes the calorie distance between each recipe in the dataset and the target calorie count. It then sorts the recipes in ascending order based on their calorie distance and selects the top N recipes with the closest calorie count to the target. Finally, it ranks the recommended recipes based on their similarity to the input recipe using the content-based filtering model. The function returns a list of ranked recommendations, where each item in the list is a tuple containing the recommended recipe ID and its similarity score. You can modify this function to suit your specific needs and model architecture."
      ]
    },
    {
      "cell_type": "markdown",
      "metadata": {
        "id": "UdAIFvFDTC-D"
      },
      "source": [
        "## E. EVALUATION."
      ]
    }
  ],
  "metadata": {
    "colab": {
      "provenance": []
    },
    "kernelspec": {
      "display_name": "Python (learn-env)",
      "language": "python",
      "name": "learn-env"
    },
    "language_info": {
      "codemirror_mode": {
        "name": "ipython",
        "version": 3
      },
      "file_extension": ".py",
      "mimetype": "text/x-python",
      "name": "python",
      "nbconvert_exporter": "python",
      "pygments_lexer": "ipython3",
      "version": "3.8.5"
    }
  },
  "nbformat": 4,
  "nbformat_minor": 0
}
